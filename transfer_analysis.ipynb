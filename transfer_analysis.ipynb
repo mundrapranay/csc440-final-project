{
 "cells": [
  {
   "cell_type": "code",
   "execution_count": 1,
   "metadata": {},
   "outputs": [],
   "source": [
    "import pandas as pd \n",
    "import numpy as np\n"
   ]
  },
  {
   "cell_type": "code",
   "execution_count": 32,
   "metadata": {},
   "outputs": [
    {
     "data": {
      "text/plain": [
       "{'AC Milan': 503500000.0,\n",
       " 'ACF Fiorentina': 191700000.0,\n",
       " 'AS Roma': 372150000.0,\n",
       " 'Atalanta BC': 388900000.0,\n",
       " 'Benevento Calcio': 49250000.0,\n",
       " 'Bologna FC 1909': 143000000.0,\n",
       " 'Cagliari Calcio': 167700000.0,\n",
       " 'FC Crotone': 50200000.0,\n",
       " 'Genoa CFC': 93000000.0,\n",
       " 'Hellas Verona': 150400000.0,\n",
       " 'Inter Milan': 648900000.0,\n",
       " 'Juventus FC': 600600000.0,\n",
       " 'Parma Calcio 1913': 117100000.0,\n",
       " 'SS Lazio': 313900000.0,\n",
       " 'SSC Napoli': 523200000.0,\n",
       " 'Spezia Calcio': 69450000.0,\n",
       " 'Torino FC': 149200000.0,\n",
       " 'UC Sampdoria': 109700000.0,\n",
       " 'US Sassuolo': 223400000.0,\n",
       " 'Udinese Calcio': 141950000.0}"
      ]
     },
     "execution_count": 32,
     "metadata": {},
     "output_type": "execute_result"
    }
   ],
   "source": [
    "pl_transfer_data = pd.read_csv('./data/serie_a_transfer_data.csv')\n",
    "season_start_year = 2020\n",
    "season_mask = pl_transfer_data['season_start_year'] == season_start_year\n",
    "\n",
    "pl_transfer_data_season = pl_transfer_data[season_mask]\n",
    "pl_transfer_data_season.head()\n",
    "pl_trasnfer_data_season_squad = pl_transfer_data_season.groupby(['squad'])\n",
    "squad_spending_pl = pl_trasnfer_data_season_squad['player_market_value_euro'].sum().to_dict()\n",
    "squad_spending_pl"
   ]
  },
  {
   "cell_type": "code",
   "execution_count": null,
   "metadata": {},
   "outputs": [],
   "source": []
  }
 ],
 "metadata": {
  "kernelspec": {
   "display_name": "Python 3.10.6 ('data-selection')",
   "language": "python",
   "name": "python3"
  },
  "language_info": {
   "codemirror_mode": {
    "name": "ipython",
    "version": 3
   },
   "file_extension": ".py",
   "mimetype": "text/x-python",
   "name": "python",
   "nbconvert_exporter": "python",
   "pygments_lexer": "ipython3",
   "version": "3.10.6"
  },
  "orig_nbformat": 4,
  "vscode": {
   "interpreter": {
    "hash": "b92af70e3f98606f3cc097d0089d4395d3ec11791608b7623fd8d12873af8daa"
   }
  }
 },
 "nbformat": 4,
 "nbformat_minor": 2
}
