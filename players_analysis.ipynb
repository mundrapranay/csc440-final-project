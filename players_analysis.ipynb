{
 "cells": [
  {
   "cell_type": "code",
   "execution_count": null,
   "metadata": {},
   "outputs": [],
   "source": []
  },
  {
   "cell_type": "markdown",
   "metadata": {},
   "source": [
    "# Find similar players across leagues using clustering, or FP Mining. \n",
    "- Compute the players stats into vectors by normalizing the values \n",
    "- We get a feature_vector for each player, project that to an embedding space and perform clutersing "
   ]
  },
  {
   "cell_type": "markdown",
   "metadata": {},
   "source": []
  }
 ],
 "metadata": {
  "kernelspec": {
   "display_name": "Python 3.10.6 ('data-selection')",
   "language": "python",
   "name": "python3"
  },
  "language_info": {
   "name": "python",
   "version": "3.10.6"
  },
  "orig_nbformat": 4,
  "vscode": {
   "interpreter": {
    "hash": "b92af70e3f98606f3cc097d0089d4395d3ec11791608b7623fd8d12873af8daa"
   }
  }
 },
 "nbformat": 4,
 "nbformat_minor": 2
}
