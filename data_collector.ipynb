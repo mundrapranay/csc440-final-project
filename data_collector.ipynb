{
 "cells": [
  {
   "cell_type": "code",
   "execution_count": 1,
   "metadata": {},
   "outputs": [],
   "source": [
    "import pandas as pd \n",
    "import numpy as np \n"
   ]
  },
  {
   "cell_type": "code",
   "execution_count": 2,
   "metadata": {},
   "outputs": [
    {
     "data": {
      "text/html": [
       "<div>\n",
       "<style scoped>\n",
       "    .dataframe tbody tr th:only-of-type {\n",
       "        vertical-align: middle;\n",
       "    }\n",
       "\n",
       "    .dataframe tbody tr th {\n",
       "        vertical-align: top;\n",
       "    }\n",
       "\n",
       "    .dataframe thead th {\n",
       "        text-align: right;\n",
       "    }\n",
       "</style>\n",
       "<table border=\"1\" class=\"dataframe\">\n",
       "  <thead>\n",
       "    <tr style=\"text-align: right;\">\n",
       "      <th></th>\n",
       "      <th>Player</th>\n",
       "      <th>Nation</th>\n",
       "      <th>Pos</th>\n",
       "      <th>Squad</th>\n",
       "      <th>Comp</th>\n",
       "      <th>Age</th>\n",
       "      <th>Born</th>\n",
       "      <th>MP</th>\n",
       "      <th>Starts</th>\n",
       "      <th>Min</th>\n",
       "      <th>...</th>\n",
       "      <th>Launch%</th>\n",
       "      <th>AvgLen</th>\n",
       "      <th>Launch%.1</th>\n",
       "      <th>AvgLen.1</th>\n",
       "      <th>Opp</th>\n",
       "      <th>Stp</th>\n",
       "      <th>Stp%</th>\n",
       "      <th>#OPA</th>\n",
       "      <th>#OPA/90</th>\n",
       "      <th>AvgDist</th>\n",
       "    </tr>\n",
       "  </thead>\n",
       "  <tbody>\n",
       "    <tr>\n",
       "      <th>0</th>\n",
       "      <td>Aaron Cresswell</td>\n",
       "      <td>eng ENG</td>\n",
       "      <td>DF</td>\n",
       "      <td>West Ham</td>\n",
       "      <td>eng Premier League</td>\n",
       "      <td>27</td>\n",
       "      <td>1989.0</td>\n",
       "      <td>36</td>\n",
       "      <td>35</td>\n",
       "      <td>3069.0</td>\n",
       "      <td>...</td>\n",
       "      <td>NaN</td>\n",
       "      <td>NaN</td>\n",
       "      <td>NaN</td>\n",
       "      <td>NaN</td>\n",
       "      <td>NaN</td>\n",
       "      <td>NaN</td>\n",
       "      <td>NaN</td>\n",
       "      <td>NaN</td>\n",
       "      <td>NaN</td>\n",
       "      <td>NaN</td>\n",
       "    </tr>\n",
       "    <tr>\n",
       "      <th>1</th>\n",
       "      <td>Aaron Hunt</td>\n",
       "      <td>de GER</td>\n",
       "      <td>MF,FW</td>\n",
       "      <td>Hamburger SV</td>\n",
       "      <td>de Bundesliga</td>\n",
       "      <td>30</td>\n",
       "      <td>1986.0</td>\n",
       "      <td>28</td>\n",
       "      <td>26</td>\n",
       "      <td>2081.0</td>\n",
       "      <td>...</td>\n",
       "      <td>NaN</td>\n",
       "      <td>NaN</td>\n",
       "      <td>NaN</td>\n",
       "      <td>NaN</td>\n",
       "      <td>NaN</td>\n",
       "      <td>NaN</td>\n",
       "      <td>NaN</td>\n",
       "      <td>NaN</td>\n",
       "      <td>NaN</td>\n",
       "      <td>NaN</td>\n",
       "    </tr>\n",
       "    <tr>\n",
       "      <th>2</th>\n",
       "      <td>Aaron Lennon</td>\n",
       "      <td>eng ENG</td>\n",
       "      <td>MF</td>\n",
       "      <td>Burnley</td>\n",
       "      <td>eng Premier League</td>\n",
       "      <td>30</td>\n",
       "      <td>1987.0</td>\n",
       "      <td>14</td>\n",
       "      <td>13</td>\n",
       "      <td>1118.0</td>\n",
       "      <td>...</td>\n",
       "      <td>NaN</td>\n",
       "      <td>NaN</td>\n",
       "      <td>NaN</td>\n",
       "      <td>NaN</td>\n",
       "      <td>NaN</td>\n",
       "      <td>NaN</td>\n",
       "      <td>NaN</td>\n",
       "      <td>NaN</td>\n",
       "      <td>NaN</td>\n",
       "      <td>NaN</td>\n",
       "    </tr>\n",
       "    <tr>\n",
       "      <th>3</th>\n",
       "      <td>Aaron Lennon</td>\n",
       "      <td>eng ENG</td>\n",
       "      <td>FW,MF</td>\n",
       "      <td>Everton</td>\n",
       "      <td>eng Premier League</td>\n",
       "      <td>30</td>\n",
       "      <td>1987.0</td>\n",
       "      <td>15</td>\n",
       "      <td>9</td>\n",
       "      <td>793.0</td>\n",
       "      <td>...</td>\n",
       "      <td>NaN</td>\n",
       "      <td>NaN</td>\n",
       "      <td>NaN</td>\n",
       "      <td>NaN</td>\n",
       "      <td>NaN</td>\n",
       "      <td>NaN</td>\n",
       "      <td>NaN</td>\n",
       "      <td>NaN</td>\n",
       "      <td>NaN</td>\n",
       "      <td>NaN</td>\n",
       "    </tr>\n",
       "    <tr>\n",
       "      <th>4</th>\n",
       "      <td>Aaron Mooy</td>\n",
       "      <td>au AUS</td>\n",
       "      <td>MF</td>\n",
       "      <td>Huddersfield</td>\n",
       "      <td>eng Premier League</td>\n",
       "      <td>26</td>\n",
       "      <td>1990.0</td>\n",
       "      <td>36</td>\n",
       "      <td>34</td>\n",
       "      <td>3067.0</td>\n",
       "      <td>...</td>\n",
       "      <td>NaN</td>\n",
       "      <td>NaN</td>\n",
       "      <td>NaN</td>\n",
       "      <td>NaN</td>\n",
       "      <td>NaN</td>\n",
       "      <td>NaN</td>\n",
       "      <td>NaN</td>\n",
       "      <td>NaN</td>\n",
       "      <td>NaN</td>\n",
       "      <td>NaN</td>\n",
       "    </tr>\n",
       "  </tbody>\n",
       "</table>\n",
       "<p>5 rows × 204 columns</p>\n",
       "</div>"
      ],
      "text/plain": [
       "            Player   Nation    Pos         Squad                Comp  Age  \\\n",
       "0  Aaron Cresswell  eng ENG     DF      West Ham  eng Premier League   27   \n",
       "1       Aaron Hunt   de GER  MF,FW  Hamburger SV       de Bundesliga   30   \n",
       "2     Aaron Lennon  eng ENG     MF       Burnley  eng Premier League   30   \n",
       "3     Aaron Lennon  eng ENG  FW,MF       Everton  eng Premier League   30   \n",
       "4       Aaron Mooy   au AUS     MF  Huddersfield  eng Premier League   26   \n",
       "\n",
       "     Born  MP  Starts     Min  ...  Launch%  AvgLen  Launch%.1  AvgLen.1  Opp  \\\n",
       "0  1989.0  36      35  3069.0  ...      NaN     NaN        NaN       NaN  NaN   \n",
       "1  1986.0  28      26  2081.0  ...      NaN     NaN        NaN       NaN  NaN   \n",
       "2  1987.0  14      13  1118.0  ...      NaN     NaN        NaN       NaN  NaN   \n",
       "3  1987.0  15       9   793.0  ...      NaN     NaN        NaN       NaN  NaN   \n",
       "4  1990.0  36      34  3067.0  ...      NaN     NaN        NaN       NaN  NaN   \n",
       "\n",
       "   Stp  Stp%  #OPA  #OPA/90  AvgDist  \n",
       "0  NaN   NaN   NaN      NaN      NaN  \n",
       "1  NaN   NaN   NaN      NaN      NaN  \n",
       "2  NaN   NaN   NaN      NaN      NaN  \n",
       "3  NaN   NaN   NaN      NaN      NaN  \n",
       "4  NaN   NaN   NaN      NaN      NaN  \n",
       "\n",
       "[5 rows x 204 columns]"
      ]
     },
     "execution_count": 2,
     "metadata": {},
     "output_type": "execute_result"
    }
   ],
   "source": [
    "fb_ref_data = pd.read_csv('./data/fb_ref_scrapped.csv', delimiter=',')\n",
    "fb_ref_data.head()"
   ]
  },
  {
   "cell_type": "code",
   "execution_count": 3,
   "metadata": {},
   "outputs": [
    {
     "data": {
      "text/plain": [
       "Index(['Player', 'Nation', 'Pos', 'Squad', 'Comp', 'Age', 'Born', 'MP',\n",
       "       'Starts', 'Min',\n",
       "       ...\n",
       "       'Launch%', 'AvgLen', 'Launch%.1', 'AvgLen.1', 'Opp', 'Stp', 'Stp%',\n",
       "       '#OPA', '#OPA/90', 'AvgDist'],\n",
       "      dtype='object', length=204)"
      ]
     },
     "execution_count": 3,
     "metadata": {},
     "output_type": "execute_result"
    }
   ],
   "source": [
    "fb_ref_data.keys()"
   ]
  },
  {
   "cell_type": "code",
   "execution_count": 6,
   "metadata": {},
   "outputs": [
    {
     "data": {
      "text/plain": [
       "array(['eng Premier League', 'de Bundesliga', 'es La Liga', 'fr Ligue 1',\n",
       "       'it Serie A'], dtype=object)"
      ]
     },
     "execution_count": 6,
     "metadata": {},
     "output_type": "execute_result"
    }
   ],
   "source": [
    "fb_ref_data.Comp.unique()"
   ]
  },
  {
   "cell_type": "code",
   "execution_count": 8,
   "metadata": {},
   "outputs": [],
   "source": [
    "pl_mask = fb_ref_data['Comp'] == 'eng Premier League'\n",
    "bund_mask = fb_ref_data['Comp'] == 'de Bundesliga'\n",
    "ll_mask = fb_ref_data['Comp'] == 'es La Liga'\n",
    "l1_mask = fb_ref_data['Comp'] == 'fr Ligue 1'\n",
    "seria_mask = fb_ref_data['Comp'] == 'it Serie A'\n",
    "\n",
    "pl_data = fb_ref_data[pl_mask]\n",
    "bundesliga_data = fb_ref_data[bund_mask]\n",
    "la_liga_data = fb_ref_data[ll_mask]\n",
    "ligue_1_data = fb_ref_data[l1_mask]\n",
    "serie_a_data = fb_ref_data[seria_mask]\n",
    "\n",
    "pl_data.to_csv('./data/premier_league_data_fb_ref.csv')\n",
    "bundesliga_data.to_csv('./data/bundesliga_data_fb_ref.csv')\n",
    "la_liga_data.to_csv('./data/la_liga_data_fb_ref.csv')\n",
    "ligue_1_data.to_csv('./data/ligue_1_data_fb_ref.csv')\n",
    "serie_a_data.to_csv('./data/serie_a_data_fb_ref.csv')\n"
   ]
  },
  {
   "cell_type": "code",
   "execution_count": null,
   "metadata": {},
   "outputs": [],
   "source": []
  }
 ],
 "metadata": {
  "kernelspec": {
   "display_name": "Python 3.10.6 ('data-selection')",
   "language": "python",
   "name": "python3"
  },
  "language_info": {
   "codemirror_mode": {
    "name": "ipython",
    "version": 3
   },
   "file_extension": ".py",
   "mimetype": "text/x-python",
   "name": "python",
   "nbconvert_exporter": "python",
   "pygments_lexer": "ipython3",
   "version": "3.10.6"
  },
  "orig_nbformat": 4,
  "vscode": {
   "interpreter": {
    "hash": "b92af70e3f98606f3cc097d0089d4395d3ec11791608b7623fd8d12873af8daa"
   }
  }
 },
 "nbformat": 4,
 "nbformat_minor": 2
}
